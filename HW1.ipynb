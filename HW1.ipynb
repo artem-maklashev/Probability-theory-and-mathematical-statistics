{
 "cells": [
  {
   "cell_type": "markdown",
   "id": "f6a54ae9",
   "metadata": {},
   "source": [
    "### Для решения задач нам потребуются формулы:\n",
    "\n",
    "1. расчет возможных сочетаний:  $$C(n,k) = \\frac{{n!}}{{k!(n-k)!}}$$\n",
    "\n",
    "2. расчет вероятности: $$P(A)=\\frac{{m}}{n}$$"
   ]
  },
  {
   "cell_type": "markdown",
   "id": "d80f1871",
   "metadata": {},
   "source": [
    "### Задача №1 \n",
    "\n",
    " Из колоды в 52 карты извлекаются случайным образом 4 карты. a) Найти вероятность того, что все карты – крести. б) Найти вероятность, что среди 4-х карт окажется хотя бы один туз."
   ]
  },
  {
   "cell_type": "markdown",
   "id": "853c96d3",
   "metadata": {},
   "source": [
    "a) всего 52 карты, из них 13 крестей, таким образом"
   ]
  },
  {
   "cell_type": "code",
   "execution_count": 1,
   "id": "9cce2c66",
   "metadata": {},
   "outputs": [
    {
     "name": "stdout",
     "output_type": "stream",
     "text": [
      "Количество возможных исходов: 270725\n",
      "Количество благоприятных исходов: 715\n",
      "Вероятность, что все карты крести: 0.26 %\n"
     ]
    }
   ],
   "source": [
    "import numpy as np\n",
    "\n",
    "def combination(n, k):\n",
    "    return np.math.factorial(n)//(np.math.factorial(k)*np.math.factorial(n-k))\n",
    "\n",
    "print(f'Количество возможных исходов: {combination(52,4)}')\n",
    "print(f'Количество благоприятных исходов: {combination(13,4)}')\n",
    "print(f'Вероятность, что все карты крести: {round((combination(13,4)/combination(52,4)*100),2)} %')"
   ]
  },
  {
   "cell_type": "markdown",
   "id": "0e0f5356",
   "metadata": {},
   "source": [
    "б) всего 52 карты, в них 4 туза, значит всего 48 карт без тузов:"
   ]
  },
  {
   "cell_type": "code",
   "execution_count": 2,
   "id": "7b6176a9",
   "metadata": {},
   "outputs": [
    {
     "name": "stdout",
     "output_type": "stream",
     "text": [
      "Количество возможных исходов без тузов: 194580\n",
      "Вероятность, что есть хотя бы 1 туз: 28.13 %\n"
     ]
    }
   ],
   "source": [
    "print(f'Количество возможных исходов без тузов: {combination(48,4)}')\n",
    "print(f'Вероятность, что есть хотя бы 1 туз: {round(((combination(52,4)-combination(48,4))/combination(52,4)*100),2)} %')"
   ]
  },
  {
   "cell_type": "markdown",
   "id": "72eaae58",
   "metadata": {},
   "source": [
    "### Задача №2\n",
    "\n",
    "На входной двери подъезда установлен кодовый замок, содержащий десять кнопок с цифрами от 0 до 9. Код содержит три цифры, которые нужно нажать одновременно. Какова вероятность того, что человек, не знающий код, откроет дверь с первой попытки?\n"
   ]
  },
  {
   "cell_type": "code",
   "execution_count": 3,
   "id": "b13de329",
   "metadata": {},
   "outputs": [
    {
     "name": "stdout",
     "output_type": "stream",
     "text": [
      "Количество возможных исходов: 120\n",
      "Вероятность: 0.83 %\n"
     ]
    }
   ],
   "source": [
    "print(f'Количество возможных исходов: {combination(10,3)}')\n",
    "print(f'Вероятность: {round((1/combination(10,3)),4)*100} %')"
   ]
  },
  {
   "cell_type": "markdown",
   "id": "f1eef55a",
   "metadata": {},
   "source": [
    "### Задача №3\n",
    "\n",
    " В ящике имеется 15 деталей, из которых 9 окрашены. Рабочий случайным образом извлекает 3 детали. Какова вероятность того, что все извлеченные детали окрашены?"
   ]
  },
  {
   "cell_type": "code",
   "execution_count": 4,
   "id": "71186482",
   "metadata": {},
   "outputs": [
    {
     "name": "stdout",
     "output_type": "stream",
     "text": [
      "Количество возможных исходов: 455\n",
      "Количество благоприятных исходов: 84\n",
      "Вероятность: 18.46 %\n"
     ]
    }
   ],
   "source": [
    "print(f'Количество возможных исходов: {combination(15,3)}')\n",
    "print(f'Количество благоприятных исходов: {combination(9,3)}')\n",
    "print(f'Вероятность: {round(((combination(9,3)/combination(15,3))*100), 2)} %')"
   ]
  },
  {
   "cell_type": "markdown",
   "id": "64ed0d79",
   "metadata": {},
   "source": [
    "### Задача №4\n",
    "\n",
    "В лотерее 100 билетов. Из них 2 выигрышных. Какова вероятность того, что 2 приобретенных билета окажутся выигрышными?"
   ]
  },
  {
   "cell_type": "code",
   "execution_count": 5,
   "id": "a050da72",
   "metadata": {},
   "outputs": [
    {
     "name": "stdout",
     "output_type": "stream",
     "text": [
      "Количество возможных исходов: 4950\n",
      "Количество благоприятных исходов: 1\n",
      "Вероятность: 0.02 %\n"
     ]
    }
   ],
   "source": [
    "print(f'Количество возможных исходов: {combination(100,2)}')\n",
    "print('Количество благоприятных исходов: 1')\n",
    "print(f'Вероятность: {round(((1/combination(100,2))*100),2)} %')"
   ]
  }
 ],
 "metadata": {
  "kernelspec": {
   "display_name": "Python 3 (ipykernel)",
   "language": "python",
   "name": "python3"
  },
  "language_info": {
   "codemirror_mode": {
    "name": "ipython",
    "version": 3
   },
   "file_extension": ".py",
   "mimetype": "text/x-python",
   "name": "python",
   "nbconvert_exporter": "python",
   "pygments_lexer": "ipython3",
   "version": "3.10.9"
  }
 },
 "nbformat": 4,
 "nbformat_minor": 5
}
