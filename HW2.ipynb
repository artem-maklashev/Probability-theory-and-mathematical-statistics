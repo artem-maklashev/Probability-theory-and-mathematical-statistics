{
 "cells": [
  {
   "cell_type": "markdown",
   "metadata": {},
   "source": [
    "### Для выполнения задания нам потребуются формулы:\n",
    "\n",
    "Биноминальное распределение случайной величины: \n",
    "    \n",
    "$$ P(X = k) = \\frac{n!}{k!(n-k)!} \\cdot p^k \\cdot (1-p)^{n-k} $$\n",
    "\n",
    "Где:\n",
    "\n",
    "* n - количество испытаний\n",
    "* k - количество успехов\n",
    "* p - вероятность успеха в каждом испытании\n",
    "* (1-p) - вероятность неудачи в каждом испытании\n",
    "\n",
    "\n",
    "Формула распределения Пуассона:\n",
    "\n",
    "$$P(X=k) = \\frac{\\lambda^k e^{-\\lambda}}{k!}$$\n",
    "\n",
    "Где:\n",
    "* k - количество событий\n",
    "* λ - средняя интенсивность событий (p*n)\n",
    "* e - основание натурального логарифма (примерно равно 2,71828)\n",
    "* k! - факториал числа k\n"
   ]
  },
  {
   "cell_type": "markdown",
   "metadata": {},
   "source": [
    "### Задача 1\n",
    "Вероятность того, что стрелок попадет в мишень, выстрелив один раз, равна 0.8. Стрелок выстрелил 100 раз. Найдите вероятность того, что стрелок попадет в цель ровно 85 раз."
   ]
  },
  {
   "cell_type": "code",
   "execution_count": 1,
   "metadata": {},
   "outputs": [
    {
     "name": "stdout",
     "output_type": "stream",
     "text": [
      "Вероятнось что стрелок попадет в цель 85раз составляет: 0.048\n"
     ]
    }
   ],
   "source": [
    "import numpy as np\n",
    "def binom(n, k, p):\n",
    "    return np.math.factorial(n)*np.power(p,k)*np.power(1-p, n-k)/(np.math.factorial(k)*np.math.factorial(n-k))\n",
    "\n",
    "print(f'Вероятнось что стрелок попадет в цель 85раз составляет: {round(binom(100,85,0.8),3)}')"
   ]
  },
  {
   "cell_type": "markdown",
   "metadata": {},
   "source": [
    "### Задача 2\n",
    "Вероятность того, что лампочка перегорит в течение первого дня эксплуатации, равна 0.0004. В жилом комплексе после ремонта в один день включили 5000 новых лампочек. Какова вероятность, что ни одна из них не перегорит в первый день? Какова вероятность, что перегорят ровно две?"
   ]
  },
  {
   "cell_type": "code",
   "execution_count": 2,
   "metadata": {},
   "outputs": [
    {
     "name": "stdout",
     "output_type": "stream",
     "text": [
      "Вероятность что не перегорит ни одна лампочка составляет: 0.135\n",
      "Вероятность что перегорит 2 лампочки составляет: 0.271\n"
     ]
    }
   ],
   "source": [
    "def puass(n, p, m):\n",
    "    return np.power(p*n, m)*np.power(np.e, -n*p)/np.math.factorial(m)\n",
    "\n",
    "print(f'Вероятность что не перегорит ни одна лампочка составляет: {round(puass(5000, 0.0004, 0),3)}')\n",
    "print(f'Вероятность что перегорит 2 лампочки составляет: {round(puass(5000, 0.0004, 2),3)}')"
   ]
  },
  {
   "cell_type": "markdown",
   "metadata": {},
   "source": [
    "### Задача 3\n",
    "Монету подбросили 144 раза. Какова вероятность, что орел выпадет ровно 70 раз?\n",
    "\n",
    "Поскольку вероятность выпадения одной из сторон 0,5"
   ]
  },
  {
   "cell_type": "code",
   "execution_count": 3,
   "metadata": {},
   "outputs": [
    {
     "name": "stdout",
     "output_type": "stream",
     "text": [
      "Вероятность выпадения орла 70 раз равна: 0.063\n"
     ]
    }
   ],
   "source": [
    "print(f'Вероятность выпадения орла 70 раз равна: {round(binom(144, 70, 0.5),3)}')"
   ]
  },
  {
   "cell_type": "markdown",
   "metadata": {},
   "source": [
    "### Задача 4\n",
    "В первом ящике находится 10 мячей, из которых 7 - белые. Во втором ящике - 11 мячей, из которых 9 белых. Из каждого ящика вытаскивают случайным образом по два мяча. Какова вероятность того, что ровно два мяча белые? Какова вероятность того, что хотя бы один мяч белый?"
   ]
  },
  {
   "cell_type": "markdown",
   "metadata": {},
   "source": [
    "Какова вероятность того, что все мячи белые?"
   ]
  },
  {
   "cell_type": "code",
   "execution_count": 4,
   "metadata": {},
   "outputs": [
    {
     "name": "stdout",
     "output_type": "stream",
     "text": [
      "Вероятность вытащить 2 белых шара из первого ящика 0.467\n",
      "Вероятность вытащить 2 белых шара из второго ящика 0.655\n",
      "Вероятность вытащить 4 белых шара из 2 ящиков равна 0.306\n"
     ]
    }
   ],
   "source": [
    "import math\n",
    "p1 = round(math.comb(7,2)/math.comb(10,2),3)\n",
    "print(f'Вероятность вытащить 2 белых шара из первого ящика {p1}')\n",
    "p2 = round(math.comb(9,2)/math.comb(11,2),3)\n",
    "print(f'Вероятность вытащить 2 белых шара из второго ящика {p2}')\n",
    "p=round(p1*p2,3)\n",
    "print(f'Вероятность вытащить 4 белых шара из 2 ящиков равна {p}')\n"
   ]
  },
  {
   "cell_type": "markdown",
   "metadata": {},
   "source": [
    "Какова вероятность того, что ровно два мяча белые?"
   ]
  },
  {
   "cell_type": "code",
   "execution_count": 5,
   "metadata": {},
   "outputs": [
    {
     "name": "stdout",
     "output_type": "stream",
     "text": [
      "Вероятность вытащить только 2 белых мяча равна 0.205\n"
     ]
    }
   ],
   "source": [
    "# Вероятность вытащить 2 белых мяча из первого ящика и 0 из второго\n",
    "p11 = (math.comb(7,2)*math.comb(3,0))/math.comb(10,2)\n",
    "p12 = (math.comb(9,0)*math.comb(2,2))/math.comb(11,2)\n",
    "p1 = p11*p12\n",
    "\n",
    "# Вероятность вытащить 1 белый мяч из первого ящика и 1 из второго\n",
    "p21 = (math.comb(7,1)*math.comb(3,1))/math.comb(10,2)\n",
    "p22 = (math.comb(9,1)*math.comb(2,1))/math.comb(11,2)\n",
    "p2 = p21*p22\n",
    "\n",
    "# Вероятность вытащить 0 белых мячей из первого ящика и 2 из второго\n",
    "p31 = (math.comb(7,0)*math.comb(3,2))/math.comb(10,2)\n",
    "p32 = (math.comb(9,2)*math.comb(2,0))/math.comb(11,2)\n",
    "p3 = p31*p32\n",
    "\n",
    "# Общая вероятность\n",
    "p = p1+p2+p3\n",
    "print(f'Вероятность вытащить только 2 белых мяча равна {round(p,3)}')"
   ]
  },
  {
   "cell_type": "markdown",
   "metadata": {},
   "source": [
    "Какова вероятность того, что хотя бы один мяч белый?"
   ]
  },
  {
   "cell_type": "markdown",
   "metadata": {},
   "source": [
    " Существует 8 вариантов:\n",
    " 1. Один мяч из первой корзины 0 мячей из второй\n",
    " 2. 2 мяча из первой корзины и 0 мячей из второй\n",
    " 2. 2 мяча из первой корзины 1 мячей из второй\n",
    " 3. 2 мяча из первой корзины 2 мячей из второй\n",
    " 4. 1 мяч из первой корзины и 1 мяч из второй\n",
    " 5. 1 мяч из первой корзины и 2 из второй\n",
    " 7. 0 мячей из первой корзины и 1 мяч из второй\n",
    " 8. 0 мячей из первой корзины и 2 мячей из второй\n",
    "\n"
   ]
  },
  {
   "cell_type": "code",
   "execution_count": 7,
   "metadata": {},
   "outputs": [
    {
     "name": "stdout",
     "output_type": "stream",
     "text": [
      "Вероятность что хотябы один мяч белый составляет: 0.999\n"
     ]
    }
   ],
   "source": [
    "import math\n",
    "p11 = math.comb(7,1)*math.comb(3,1)/math.comb(10,2)\n",
    "p12 =math.comb(9,0)*math.comb(2,2)/math.comb(11,2)\n",
    "p1 = p11*p12\n",
    "\n",
    "# print(p1)\n",
    "p21 = math.comb(7,2)*math.comb(3,0)/math.comb(10,2)\n",
    "p22 =math.comb(9,0)*math.comb(2,2)/math.comb(11,2)\n",
    "p2 = p21*p22\n",
    "\n",
    "p31 = math.comb(7,2)*math.comb(3,0)/math.comb(10,2)\n",
    "p32 =math.comb(9,1)*math.comb(2,1)/math.comb(11,2)\n",
    "p3 = p31*p32\n",
    "\n",
    "p41 = math.comb(7,2)*math.comb(3,0)/math.comb(10,2)\n",
    "p42 =math.comb(9,2)*math.comb(2,0)/math.comb(11,2)\n",
    "p4 = p41*p42\n",
    "\n",
    "p51 = math.comb(7,1)*math.comb(3,1)/math.comb(10,2)\n",
    "p52 =math.comb(9,1)*math.comb(2,1)/math.comb(11,2)\n",
    "p5 = p51*p52\n",
    "\n",
    "p61 = math.comb(7,1)*math.comb(3,1)/math.comb(10,2)\n",
    "p62 =math.comb(9,2)*math.comb(2,0)/math.comb(11,2)\n",
    "p6 = p61*p62\n",
    "\n",
    "p71 = math.comb(7,0)*math.comb(3,2)/math.comb(10,2)\n",
    "p72 =math.comb(9,1)*math.comb(2,1)/math.comb(11,2)\n",
    "p7 = p71*p72\n",
    "\n",
    "p81 = math.comb(7,0)*math.comb(3,2)/math.comb(10,2)\n",
    "p82 =math.comb(9,2)*math.comb(2,0)/math.comb(11,2)\n",
    "p8 = p81*p82\n",
    "\n",
    "p= round(p1+p2+p3+p4+p5+p6+p7+p8, 3)\n",
    "print(f'Вероятность что хотябы один мяч белый составляет: {p}')"
   ]
  },
  {
   "cell_type": "markdown",
   "metadata": {},
   "source": [
    "Второй способ. Определить вероятность что все черные и вычесть ее из 1\n"
   ]
  },
  {
   "cell_type": "code",
   "execution_count": 8,
   "metadata": {},
   "outputs": [
    {
     "name": "stdout",
     "output_type": "stream",
     "text": [
      "Вероятность что хотябы один мяч белый составляет: 0.999\n"
     ]
    }
   ],
   "source": [
    "P=1-(3/10)*(2/9)*(2/11)*(1/10)\n",
    "\n",
    "print(f'Вероятность что хотябы один мяч белый составляет: {round(P, 3)}')"
   ]
  }
 ],
 "metadata": {
  "kernelspec": {
   "display_name": "py",
   "language": "python",
   "name": "python3"
  },
  "language_info": {
   "codemirror_mode": {
    "name": "ipython",
    "version": 3
   },
   "file_extension": ".py",
   "mimetype": "text/x-python",
   "name": "python",
   "nbconvert_exporter": "python",
   "pygments_lexer": "ipython3",
   "version": "3.10.9"
  },
  "orig_nbformat": 4
 },
 "nbformat": 4,
 "nbformat_minor": 2
}
