{
 "cells": [
  {
   "cell_type": "markdown",
   "metadata": {},
   "source": [
    "### Для выполнения задания нам потребуются формулы:\n",
    "\n",
    "Биноминальное распределение случайной величины: \n",
    "    \n",
    "$$P(X = k) = \\frac{n!}{k!(n-k)!} \\cdot p^k \\cdot (1-p)^{n-k}$$\n",
    "\n",
    "Где:\n",
    "\n",
    "* n - количество испытаний\n",
    "* k - количество успехов\n",
    "* p - вероятность успеха в каждом испытании\n",
    "* (1-p) - вероятность неудачи в каждом испытании\n",
    "\n",
    "Формула распределения Пуассона:\n",
    "\n",
    "$$P(X=k) = \\frac{\\lambda^k e^{-\\lambda}}{k!}$$\n",
    "\n",
    "Где:\n",
    "* k - количество событий\n",
    "* λ - средняя интенсивность событий (p*n)\n",
    "* e - основание натурального логарифма (примерно равно 2,71828)\n",
    "* k! - факториал числа k\n"
   ]
  },
  {
   "cell_type": "markdown",
   "metadata": {},
   "source": [
    "### Задача 1\n",
    "Вероятность того, что стрелок попадет в мишень, выстрелив один раз, равна 0.8. Стрелок выстрелил 100 раз. Найдите вероятность того, что стрелок попадет в цель ровно 85 раз."
   ]
  },
  {
   "cell_type": "code",
   "execution_count": 1,
   "metadata": {},
   "outputs": [],
   "source": [
    "import numpy as np\n",
    "def binom(n, k, p):\n",
    "    return np.math.factorial(n)*np.power(p,k)*np.power(1-p, n-k)//(np.math.factorial(k)*np.math.factorial(n-k))\n",
    "\n",
    "print(f'Вероятнось что стрелок попадет в цель 85раз составляет: {binom(100,85,0.8)}')"
   ]
  }
 ],
 "metadata": {
  "kernelspec": {
   "display_name": "py",
   "language": "python",
   "name": "python3"
  },
  "language_info": {
   "codemirror_mode": {
    "name": "ipython",
    "version": 3
   },
   "file_extension": ".py",
   "mimetype": "text/x-python",
   "name": "python",
   "nbconvert_exporter": "python",
   "pygments_lexer": "ipython3",
   "version": "3.10.9"
  },
  "orig_nbformat": 4
 },
 "nbformat": 4,
 "nbformat_minor": 2
}
