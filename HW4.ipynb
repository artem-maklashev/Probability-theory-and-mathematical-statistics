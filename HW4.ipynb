{
 "cells": [
  {
   "cell_type": "markdown",
   "metadata": {},
   "source": [
    "### Задача 1\n",
    "Случайная непрерывная величина A имеет равномерное распределение на промежутке (200, 800]. Найдите ее среднее значение и дисперсию."
   ]
  },
  {
   "cell_type": "code",
   "execution_count": null,
   "metadata": {},
   "outputs": [
    {
     "name": "stdout",
     "output_type": "stream",
     "text": [
      "Среднее значение составляет 500.0\n"
     ]
    }
   ],
   "source": [
    "import numpy as np\n",
    "\n",
    "a = 800\n",
    "b = 200\n",
    "avg = (a+b)/2\n",
    "print(f'Среднее значение составляет {avg}')\n",
    "\n"
   ]
  },
  {
   "cell_type": "markdown",
   "metadata": {},
   "source": [
    "Дисперсия случайной величины: $$D(A) = \\frac{(b - a)^2}{12}$$"
   ]
  },
  {
   "cell_type": "code",
   "execution_count": null,
   "metadata": {},
   "outputs": [
    {
     "name": "stdout",
     "output_type": "stream",
     "text": [
      "Дисперсия составляет 30000.0\n"
     ]
    }
   ],
   "source": [
    "d = np.power((a-b),2)/12\n",
    "print(f'Дисперсия составляет {d}')"
   ]
  },
  {
   "cell_type": "markdown",
   "metadata": {},
   "source": [
    "### Задача 2\n",
    "О случайной непрерывной равномерно распределенной величине B известно, что ее дисперсия равна 0.2. Можно ли найти правую границу величины B и ее среднее значение зная, что левая граница равна 0.5? Если да, найдите ее."
   ]
  },
  {
   "cell_type": "markdown",
   "metadata": {},
   "source": [
    "Из формулы выше:\n",
    "$$b = \\sqrt{D(A) \\times 12} + a$$"
   ]
  },
  {
   "cell_type": "code",
   "execution_count": null,
   "metadata": {},
   "outputs": [
    {
     "name": "stdout",
     "output_type": "stream",
     "text": [
      "Правая граница промежутка 2.049\n"
     ]
    }
   ],
   "source": [
    "d = 0.2\n",
    "a = 0.5\n",
    "b= np.power((d*12),0.5) + a\n",
    "print(f'Правая граница промежутка {b:.3f}')"
   ]
  },
  {
   "cell_type": "code",
   "execution_count": null,
   "metadata": {},
   "outputs": [
    {
     "name": "stdout",
     "output_type": "stream",
     "text": [
      "Среднее значение состваляет 1.275\n"
     ]
    }
   ],
   "source": [
    "avg = (a+b)/2\n",
    "print(f'Среднее значение состваляет {avg:.3f}')"
   ]
  },
  {
   "cell_type": "markdown",
   "metadata": {},
   "source": [
    "### Задача 3\n",
    "\n",
    "Непрерывная случайная величина X распределена нормально и задана плотностью распределения\n",
    "\n",
    "$$f(x) = \\frac{1}{4 \\sqrt{2 \\pi}} \\exp^{-\\frac{(x + 2)^2}{32}}$$\n",
    "\n"
   ]
  },
  {
   "cell_type": "markdown",
   "metadata": {},
   "source": [
    "Найдите:\n",
    "\n",
    "а). M(X)\n",
    "\n",
    "б). D(X)\n",
    "\n",
    "в). std(X) (среднее квадратичное отклонение)"
   ]
  },
  {
   "cell_type": "code",
   "execution_count": null,
   "metadata": {},
   "outputs": [
    {
     "name": "stdout",
     "output_type": "stream",
     "text": [
      "M(X) = -2 \n",
      "D(X) = 16 \n",
      "std(X) = 4\n"
     ]
    }
   ],
   "source": [
    "mx = -2\n",
    "dx = np.power(4,2)\n",
    "stdx = 4\n",
    "\n",
    "print(f'M(X) = {mx} \\nD(X) = {dx} \\nstd(X) = {stdx}')"
   ]
  },
  {
   "cell_type": "markdown",
   "metadata": {},
   "source": [
    "### Задача 4\n",
    "\n",
    "Рост взрослого населения города X имеет нормальное распределение.\n",
    "Причем, средний рост равен 174 см, а среднее квадратичное отклонение равно 8 см.\n",
    "\n",
    "Какова вероятность того, что случайным образом выбранный взрослый человек имеет рост:\n",
    "\n",
    "а). больше 182 см\n",
    "\n",
    "б). больше 190 см\n",
    "\n",
    "в). от 166 см до 190 см\n",
    "\n",
    "г). от 166 см до 182 см\n",
    "\n",
    "д). от 158 см до 190 см\n",
    "\n",
    "е). не выше 150 см или не ниже 190 см\n",
    "\n",
    "ё). не выше 150 см или не ниже 198 см\n",
    "\n",
    "ж). ниже 166 см.\n",
    "\n",
    "Формула: $$Z = \\frac{(x-mu)} {\\sigma}$$"
   ]
  },
  {
   "cell_type": "code",
   "execution_count": null,
   "metadata": {},
   "outputs": [
    {
     "name": "stdout",
     "output_type": "stream",
     "text": [
      "Z = 1.0\n"
     ]
    }
   ],
   "source": [
    "def z(x):\n",
    "    mu = 174\n",
    "    sigma = 8\n",
    "    return (x-mu)/sigma\n",
    "\n",
    "\n",
    "\n",
    "\n",
    "# a) больше 182 см\n",
    "x = 182\n",
    "Z = z(x)\n",
    "print(f'Z = {Z}')\n",
    "\n"
   ]
  },
  {
   "cell_type": "code",
   "execution_count": null,
   "metadata": {},
   "outputs": [
    {
     "name": "stdout",
     "output_type": "stream",
     "text": [
      "Вероятноссть того что сулучайным образом выбранный человек имеет рост выше 182см составляет 16.0%\n"
     ]
    }
   ],
   "source": [
    "print(f'Вероятноссть того что сулучайным образом выбранный человек имеет рост выше 182см составляет {100-(50+68/2)}%')"
   ]
  },
  {
   "cell_type": "code",
   "execution_count": null,
   "metadata": {},
   "outputs": [
    {
     "name": "stdout",
     "output_type": "stream",
     "text": [
      "Z = 2.0\n"
     ]
    }
   ],
   "source": [
    "# б) больше 190 см\n",
    "x = 190\n",
    "Z =z(x)\n",
    "print(f'Z = {Z}')\n"
   ]
  },
  {
   "cell_type": "markdown",
   "metadata": {},
   "source": [
    "По правилу 3 сигм поскольку ниже 2 сигм лежат 95,4% значений , тогда"
   ]
  },
  {
   "cell_type": "code",
   "execution_count": null,
   "metadata": {},
   "outputs": [
    {
     "name": "stdout",
     "output_type": "stream",
     "text": [
      "Вероятность того что что случайным образом выбранный человек имеет рост выше 190 составляет 2.300%\n"
     ]
    }
   ],
   "source": [
    "print(f'Вероятность того что что случайным образом выбранный человек имеет рост выше {x} составляет {100-(50+95.4/2):.3f}%')"
   ]
  },
  {
   "cell_type": "code",
   "execution_count": null,
   "metadata": {},
   "outputs": [
    {
     "data": {
      "text/plain": [
       "-1.0"
      ]
     },
     "execution_count": 51,
     "metadata": {},
     "output_type": "execute_result"
    }
   ],
   "source": [
    "# в) от 166 см до 190 см\n",
    "x1 = 166\n",
    "Z = z(x1)\n",
    "Z "
   ]
  },
  {
   "cell_type": "markdown",
   "metadata": {},
   "source": [
    "Поскольку ниже -1 сигмы лежит 50 -68/2 значений, то ниже -1 сигмы находятся 16% значений, для роста 190см сигма равна 2 и ранее мы нашли что выше этого значения находится 2,3% значений"
   ]
  },
  {
   "cell_type": "code",
   "execution_count": null,
   "metadata": {},
   "outputs": [
    {
     "name": "stdout",
     "output_type": "stream",
     "text": [
      "Случайно выбранный человек находится в интервале от 166 до 190см с вероятностью 81.7%\n"
     ]
    }
   ],
   "source": [
    "print(f'Случайно выбранный человек находится в интервале от 166 до 190см с вероятностью {100-16-2.3}%')"
   ]
  },
  {
   "cell_type": "code",
   "execution_count": null,
   "metadata": {},
   "outputs": [
    {
     "name": "stdout",
     "output_type": "stream",
     "text": [
      "Случайно выбранный человек находится в диапазоне от 166см до 182см 68%, или полученный интервал от -сигма до + сигма составляет 68%\n"
     ]
    }
   ],
   "source": [
    "# г) от 166 см до 182 см\n",
    "# поскольку ниже 166см лежит 16% значений, а выше 182см 16%\n",
    "\n",
    "print(f'Случайно выбранный человек находится в диапазоне от 166см до 182см {100-(16+16)}%, или полученный интервал от -сигма до + сигма составляет 68%')"
   ]
  },
  {
   "cell_type": "code",
   "execution_count": null,
   "metadata": {},
   "outputs": [
    {
     "name": "stdout",
     "output_type": "stream",
     "text": [
      "Случайно выбранный человек имеет рост от 158 до 190см с вероятностью 95,4%\n"
     ]
    }
   ],
   "source": [
    "# д) от 158 см до 190 см\n",
    "# Полученный интервал соответствует от -2 сигма до +2 сигма и составляет\n",
    "\n",
    "print(f'Случайно выбранный человек имеет рост от 158 до 190см с вероятностью 95,4%')"
   ]
  },
  {
   "cell_type": "code",
   "execution_count": null,
   "metadata": {},
   "outputs": [
    {
     "name": "stdout",
     "output_type": "stream",
     "text": [
      "Z = -3.0\n",
      "Ниже -3 сигм находится значение 0.140\n",
      "Случайно выбранный человек имеет рост не выше 150 см и не ниже 190см с вероятностью 2.440%\n"
     ]
    }
   ],
   "source": [
    "# е) не выше 150 см или не ниже 190 см\n",
    "\n",
    "x=150\n",
    "Z=z(150)\n",
    "print(f'Z = {Z}')\n",
    "\n",
    "print(f'Ниже -3 сигм находится значение {(100-99.72)/2:.3f}')\n",
    "\n",
    "# поскольку выше 190см находится 2,3% значений\n",
    "print(f'Случайно выбранный человек имеет рост не выше 150 см и не ниже 190см с вероятностью {0.14+2.3:.3f}%')"
   ]
  },
  {
   "cell_type": "code",
   "execution_count": null,
   "metadata": {},
   "outputs": [
    {
     "name": "stdout",
     "output_type": "stream",
     "text": [
      "Диапазон составляет от -3.0 сигм до 3.0 сигм\n",
      "Данный диапазон соответствует 100-99,72% по правилу 3 сигм и составляет 0.280\n"
     ]
    }
   ],
   "source": [
    "# ё) не выше 150 см или не ниже 198 см\n",
    "x150=150\n",
    "x198=198\n",
    "Z150=z(x150)\n",
    "Z198=z(x198)\n",
    "print(f'Диапазон составляет от {Z150} сигм до {Z198} сигм')\n",
    "print(f'Данный диапазон соответствует 100-99,72% по правилу 3 сигм и составляет {100-99.72:.3f}') "
   ]
  },
  {
   "cell_type": "code",
   "execution_count": null,
   "metadata": {},
   "outputs": [
    {
     "name": "stdout",
     "output_type": "stream",
     "text": [
      "Поскольку рост 166см соответствует 1 сигме, вероятность того что случайный человек имеет рост ниже 160см составляет 50%-68%/2 = 16.0%\n"
     ]
    }
   ],
   "source": [
    "# ж) ниже 166 см.\n",
    "print(f'Поскольку рост 166см соответствует 1 сигме, вероятность того что случайный человек имеет рост ниже 160см составляет 50%-68%/2 = {50-68/2}%')"
   ]
  },
  {
   "cell_type": "markdown",
   "metadata": {},
   "source": [
    "### Задача 5\n",
    "На сколько сигм (средних квадратичных отклонений) отклоняется рост человека, равный 190 см, от математического ожидания роста в популяции, в которой M(X) = 178 см и D(X) = 25 кв.см\n"
   ]
  },
  {
   "cell_type": "code",
   "execution_count": null,
   "metadata": {},
   "outputs": [
    {
     "name": "stdout",
     "output_type": "stream",
     "text": [
      "Рост человека 190см отклоняется от математического ожидания роста в популяции, в которой M(X) = 178 см и D(X) = 25 кв.см на 2.4 сигм\n"
     ]
    }
   ],
   "source": [
    "d=25\n",
    "m=178\n",
    "x=190\n",
    "sigma = np.sqrt(d)\n",
    "stdx = (x-m)/sigma\n",
    "print(f'Рост человека 190см отклоняется от математического ожидания роста в популяции, в которой M(X) = 178 см и D(X) = 25 кв.см на {stdx} сигм')"
   ]
  }
 ],
 "metadata": {
  "kernelspec": {
   "display_name": "py",
   "language": "python",
   "name": "python3"
  },
  "language_info": {
   "codemirror_mode": {
    "name": "ipython",
    "version": 3
   },
   "file_extension": ".py",
   "mimetype": "text/x-python",
   "name": "python",
   "nbconvert_exporter": "python",
   "pygments_lexer": "ipython3",
   "version": "3.10.9"
  },
  "orig_nbformat": 4
 },
 "nbformat": 4,
 "nbformat_minor": 2
}
