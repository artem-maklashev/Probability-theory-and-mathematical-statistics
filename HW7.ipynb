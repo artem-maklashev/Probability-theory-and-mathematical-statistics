{
 "cells": [
  {
   "cell_type": "markdown",
   "metadata": {},
   "source": [
    "1.  Даны две  независимые выборки. Не соблюдается условие нормальности\n",
    "x1  380,420, 290\n",
    "y1 140,360,200,900\n",
    "\n",
    "    Сделайте вывод по результатам, полученным с помощью функции"
   ]
  },
  {
   "cell_type": "code",
   "execution_count": 12,
   "metadata": {},
   "outputs": [
    {
     "data": {
      "text/plain": [
       "MannwhitneyuResult(statistic=8.0, pvalue=0.6285714285714286)"
      ]
     },
     "execution_count": 12,
     "metadata": {},
     "output_type": "execute_result"
    }
   ],
   "source": [
    "import numpy as np\n",
    "from scipy import stats\n",
    "\n",
    "a = np.array([380,420, 290])\n",
    "b = np.array([140,360,200,900])\n",
    "\n",
    "stats.mannwhitneyu(a,b)"
   ]
  },
  {
   "cell_type": "code",
   "execution_count": 13,
   "metadata": {},
   "outputs": [],
   "source": [
    "# Значимый различий между выборками нет, т.к. pvalue > alfa"
   ]
  },
  {
   "cell_type": "markdown",
   "metadata": {},
   "source": [
    "2. Исследовалось влияние препарата на уровень давления пациентов. Сначала измерялось давление до приема препарата, потом через 10 минут и через 30 минут. Есть ли статистически значимые различия?\n",
    "\n",
    "    1е измерение до приема препарата: 150, 160, 165, 145, 155\n",
    "\n",
    "    2е измерение через 10 минут: 140, 155, 150,  130, 135\n",
    "    \n",
    "    3е измерение через 30 минут: 130, 130, 120, 130, 125"
   ]
  },
  {
   "cell_type": "code",
   "execution_count": 14,
   "metadata": {},
   "outputs": [
    {
     "data": {
      "text/plain": [
       "FriedmanchisquareResult(statistic=9.578947368421062, pvalue=0.00831683351100441)"
      ]
     },
     "execution_count": 14,
     "metadata": {},
     "output_type": "execute_result"
    }
   ],
   "source": [
    "x_1 = np.array([150, 160, 165, 145, 155])\n",
    "x_2 = np.array([140, 155, 150,  130, 135])\n",
    "x_3 = np.array([130, 130, 120, 130, 125])\n",
    "\n",
    "stats.friedmanchisquare(x_1, x_2, x_3)"
   ]
  },
  {
   "cell_type": "code",
   "execution_count": 15,
   "metadata": {},
   "outputs": [],
   "source": [
    "#Поскольку pvalue < alfa то имеются статистически значемые различия и препарат действует"
   ]
  },
  {
   "cell_type": "markdown",
   "metadata": {},
   "source": [
    "3. Сравните 1 и 2 е измерения, предполагая, что 3го измерения через 30 минут не было."
   ]
  },
  {
   "cell_type": "code",
   "execution_count": 16,
   "metadata": {},
   "outputs": [
    {
     "data": {
      "text/plain": [
       "WilcoxonResult(statistic=0.0, pvalue=0.0625)"
      ]
     },
     "execution_count": 16,
     "metadata": {},
     "output_type": "execute_result"
    }
   ],
   "source": [
    "stats.wilcoxon(x_1, x_2)"
   ]
  },
  {
   "cell_type": "code",
   "execution_count": 17,
   "metadata": {},
   "outputs": [],
   "source": [
    "#Статичстически значимый различий между первым и вторым измерением нет т.к. pvalue > alfa. Препарат действует по прошествии 30мин"
   ]
  },
  {
   "cell_type": "markdown",
   "metadata": {},
   "source": [
    "4. Даны 3 группы  учеников плавания.\n",
    "    В 1 группе время на дистанцию 50 м составляют:\n",
    "    56, 60, 62, 55, 71, 67, 59, 58, 64, 67\n",
    "\n",
    "    Вторая группа : 57, 58, 69, 48, 72, 70, 68, 71, 50, 53\n",
    "    \n",
    "    Третья группа: 57, 67, 49, 48, 47, 55, 66, 51, 54"
   ]
  },
  {
   "cell_type": "code",
   "execution_count": 18,
   "metadata": {},
   "outputs": [
    {
     "data": {
      "text/plain": [
       "KruskalResult(statistic=5.465564058257224, pvalue=0.0650380998590494)"
      ]
     },
     "execution_count": 18,
     "metadata": {},
     "output_type": "execute_result"
    }
   ],
   "source": [
    "a = np.array([56, 60, 62, 55, 71, 67, 59, 58, 64, 67])\n",
    "b = np.array([57, 58, 69, 48, 72, 70, 68, 71, 50, 53])\n",
    "c = np.array([57, 67, 49, 48, 47, 55, 66, 51, 54])\n",
    "\n",
    "stats.kruskal(a, b, c)"
   ]
  },
  {
   "cell_type": "code",
   "execution_count": 19,
   "metadata": {},
   "outputs": [],
   "source": [
    "#Поскольку pvalue > alfa статистически значимы различий между 3 группами пловцов нет. Все группы проплывают 50м примерно одинаково"
   ]
  },
  {
   "cell_type": "markdown",
   "metadata": {},
   "source": [
    "5. Заявляется, что партия изготавливается со средним арифметическим 2,5 см. Проверить данную гипотезу, если известно, что размеры изделий подчинены нормальному закону распределения. Объем выборки 10, уровень статистической значимости 5%\n",
    "\n",
    "    2.51, 2.35, 2.74, 2.56, 2.40, 2.36, 2.65, 2.7, 2.67, 2.34\n",
    "\n",
    "    Поскольку дисперсия генеральной совокупности неизвестна то используем t-критерий "
   ]
  },
  {
   "cell_type": "code",
   "execution_count": 20,
   "metadata": {},
   "outputs": [
    {
     "data": {
      "text/plain": [
       "2.5279999999999996"
      ]
     },
     "execution_count": 20,
     "metadata": {},
     "output_type": "execute_result"
    }
   ],
   "source": [
    "mu = 2.5\n",
    "avg = ( 2.51 + 2.35 + 2.74 + 2.56 + 2.40 + 2.36 + 2.65 + 2.7 + 2.67 + 2.34)/10\n",
    "avg"
   ]
  },
  {
   "cell_type": "markdown",
   "metadata": {},
   "source": [
    "$s = \\sqrt{(2.51 - 2.53)^2 + (2.35-2.53)^2 + ... + (2.34-2.53)^2}$"
   ]
  },
  {
   "cell_type": "code",
   "execution_count": 21,
   "metadata": {},
   "outputs": [
    {
     "data": {
      "text/plain": [
       "0.4326846426671512"
      ]
     },
     "execution_count": 21,
     "metadata": {},
     "output_type": "execute_result"
    }
   ],
   "source": [
    "array = np.array([ 2.51, 2.35, 2.74, 2.56, 2.40, 2.36, 2.65, 2.7, 2.67, 2.34])\n",
    "def find_s (avg, array):\n",
    "    sum = 0\n",
    "    for i in range(len(array) - 1):\n",
    "        sum += np.power((array[i] - avg), 2)\n",
    "    \n",
    "    return np.sqrt(sum)\n",
    "\n",
    "s = find_s(avg, array)\n",
    "s"
   ]
  },
  {
   "cell_type": "markdown",
   "metadata": {},
   "source": [
    "Используем формулу $$ t = \\frac{avg-\\mu}{\\frac{\\sigma}{\\sqrt{n}}} $$\n",
    "\n",
    "$$ t = \\frac{2.53-2.5}{\\frac{0.43}{\\sqrt{10}}} = 0.22$$\n",
    "\n",
    "Оприделим критиеские значение  для критерия alfa = 5% = 0.05 по таблице при степенях свободы 10-1 = 9\n",
    "\n",
    "![Критические значения критерия Стьюдента](https://cf2.ppt-online.org/files2/slide/6/6AVb07fhBxo9I3mSvpjgwTcFJOtKHd5asWRnUr8kM/slide-3.jpg)\n",
    "\n",
    "\n",
    "$t_{крит} = 2.262$\n",
    "\n",
    "Поскольку $t = 0.22$ входит в диапазон $t_{крит}$ [-2.262; 2.262] то утверждение верное - детали изготавливаются со средним арифметическим 2,5см"
   ]
  }
 ],
 "metadata": {
  "kernelspec": {
   "display_name": "base",
   "language": "python",
   "name": "python3"
  },
  "language_info": {
   "codemirror_mode": {
    "name": "ipython",
    "version": 3
   },
   "file_extension": ".py",
   "mimetype": "text/x-python",
   "name": "python",
   "nbconvert_exporter": "python",
   "pygments_lexer": "ipython3",
   "version": "3.10.9"
  },
  "orig_nbformat": 4
 },
 "nbformat": 4,
 "nbformat_minor": 2
}
