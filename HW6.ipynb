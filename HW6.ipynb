{
 "cells": [
  {
   "cell_type": "markdown",
   "metadata": {},
   "source": [
    "1. Известно, что генеральная совокупность распределена нормально со средним квадратическим отклонением, равным 16.\n",
    "Найти доверительный интервал для оценки математического ожидания a с надежностью 0.95, если выборочная средняя M = 80, а объем выборки n = 256."
   ]
  },
  {
   "cell_type": "markdown",
   "metadata": {},
   "source": [
    "Доверительный интервал для среднего значения находим по формуле:\n",
    "$$\\bar{X} \\pm Z_{\\frac{\\alpha}{2}} \\cdot \\frac{\\sigma}{\\sqrt{n}}$$"
   ]
  },
  {
   "cell_type": "code",
   "execution_count": 3,
   "metadata": {},
   "outputs": [
    {
     "name": "stdout",
     "output_type": "stream",
     "text": [
      "Доварительный интервал [78.040;81.960]\n"
     ]
    }
   ],
   "source": [
    "import numpy as np\n",
    "from scipy import stats\n",
    "s = 16\n",
    "X = 80\n",
    "n = 256\n",
    "a = 1-0.95\n",
    "z_critical = stats.norm.ppf(1-a/2)\n",
    "x1 = X-z_critical*s/np.sqrt(n)\n",
    "x2 = X+z_critical*s/np.sqrt(n)\n",
    "print(f\"Доварительный интервал [{x1:.3f};{x2:.3f}]\")\n",
    "\n"
   ]
  },
  {
   "cell_type": "markdown",
   "metadata": {},
   "source": [
    "2. В результате 10 независимых измерений некоторой величины X, выполненных с одинаковой точностью, получены опытные данные:\n",
    "\n",
    "    6.9, 6.1, 6.2, 6.8, 7.5, 6.3, 6.4, 6.9, 6.7, 6.1\n",
    "\n",
    "Предполагая, что результаты измерений подчинены нормальному закону распределения вероятностей, оценить истинное значение величины X при помощи доверительного интервала, покрывающего это значение с доверительной вероятностью 0,95.\n",
    "\n",
    "Поскольку среднее квадратичное не известно используем формулу с использованием t-распределения:\n",
    "$$\\bar{x} \\pm t_{\\frac{\\alpha}{2}} \\cdot \\frac{\\sigma}{\\sqrt{n}}$$\n",
    "$$\\bar{x} \\pm t_{\\frac{\\alpha}{2}} \\cdot \\frac{s}{\\sqrt{n}}$$\n"
   ]
  },
  {
   "cell_type": "code",
   "execution_count": 4,
   "metadata": {},
   "outputs": [
    {
     "data": {
      "text/plain": [
       "6.590000000000001"
      ]
     },
     "execution_count": 4,
     "metadata": {},
     "output_type": "execute_result"
    }
   ],
   "source": [
    "a = np.array([6.9, 6.1, 6.2, 6.8, 7.5, 6.3, 6.4, 6.9, 6.7, 6.1])\n",
    "x_1 = np.mean(a) #average\n",
    "x_1"
   ]
  },
  {
   "cell_type": "code",
   "execution_count": 12,
   "metadata": {},
   "outputs": [
    {
     "data": {
      "text/plain": [
       "0.4508017549014448"
      ]
     },
     "execution_count": 12,
     "metadata": {},
     "output_type": "execute_result"
    }
   ],
   "source": [
    "# Несмещенная дисперсия выборки\n",
    "s = np.std(a, ddof=1)\n",
    "s"
   ]
  },
  {
   "cell_type": "code",
   "execution_count": 6,
   "metadata": {},
   "outputs": [
    {
     "data": {
      "text/plain": [
       "2.2621571627409915"
      ]
     },
     "execution_count": 6,
     "metadata": {},
     "output_type": "execute_result"
    }
   ],
   "source": [
    "#Доверительынй интервал\n",
    "t1 = stats.t.ppf(0.975, len(a)-1)\n",
    "t1"
   ]
  },
  {
   "cell_type": "code",
   "execution_count": 14,
   "metadata": {},
   "outputs": [
    {
     "name": "stdout",
     "output_type": "stream",
     "text": [
      "Доверительный интервал для оценки истенного значения 6.27, 6.91\n"
     ]
    }
   ],
   "source": [
    "print(f\"Доверительный интервал для оценки истенного значения {(x_1 - t1*s/np.sqrt(len(a))):.2f}, {(x_1 + t1*s/np.sqrt(len(a))):.2f}\")"
   ]
  },
  {
   "cell_type": "markdown",
   "metadata": {},
   "source": [
    "3.  Рост дочерей 175, 167, 154, 174, 178, 148, 160, 167, 169, 170\n",
    "\n",
    "    Рост матерей  178, 165, 165, 173, 168, 155, 160, 164, 178, 175\n",
    "\n",
    "    Используя эти данные построить 95% доверительный интервал для разности среднего роста родителей и детей."
   ]
  },
  {
   "cell_type": "markdown",
   "metadata": {},
   "source": [
    "Cначала найдем общую дисперсию, как среднюю дисперсию обеих групп.\n",
    "$$D = \\frac{1}{2} (D_1 + D_2)$$\n",
    "\n",
    "<div align=\"center\">\n",
    "\n",
    "где $D_1$ и $D_2$ – дисперсии обеих групп\n",
    "\n",
    "</div>\n",
    "\n",
    "А вместо стандартной ошибки среднего  $\\frac{\\sigma}{\\sqrt{n}}$ найдем стандартную ошибку разности средних:\n",
    "$$ S_{\\Delta} = \\sqrt{\\frac{D}{n_1} + \\frac{D}{n_2}} $$\n",
    "<div align=\"center\">\n",
    "\n",
    "где $n_1$ и  $n_2$– объемы выборок.\n",
    "\n",
    "</div>\n",
    "\n",
    " И таким образом, формула для нахождения доверительного интервала для разности средних арифметических $\\mu_1 - \\mu_2$ будет: \n",
    "$$\\Delta \\pm t_{\\frac{\\alpha}{2}} \\cdot S_{\\Delta}$$\n"
   ]
  },
  {
   "cell_type": "code",
   "execution_count": 20,
   "metadata": {},
   "outputs": [
    {
     "name": "stdout",
     "output_type": "stream",
     "text": [
      "Доверительный интервал [-6.27;10.07]\n"
     ]
    }
   ],
   "source": [
    "a = np.array([175, 167, 154, 174, 178, 148, 160, 167, 169, 170])\n",
    "b = np.array([178, 165, 165, 173, 168, 155, 160, 164, 178, 175])\n",
    "\n",
    "x_1 = np.mean(a)\n",
    "x_2 = np.mean(b)\n",
    "\n",
    "delta = x_2 - x_1\n",
    "\n",
    "D1 = np.var(a, ddof = 1)\n",
    "D2 = np.var(b, ddof = 1)\n",
    "\n",
    "D = (D1 + D2) / 2\n",
    "\n",
    "SE = np.sqrt(D/len(a) +D/len(b))\n",
    "\n",
    "t = stats.t.ppf(0.975, len(a) + len(b) -2)\n",
    "\n",
    "lower = delta - t*SE\n",
    "upper = delta + t*SE\n",
    "\n",
    "print(f'Доверительный интервал [{lower:.2f};{upper:.2f}]')"
   ]
  }
 ],
 "metadata": {
  "kernelspec": {
   "display_name": "py",
   "language": "python",
   "name": "python3"
  },
  "language_info": {
   "codemirror_mode": {
    "name": "ipython",
    "version": 3
   },
   "file_extension": ".py",
   "mimetype": "text/x-python",
   "name": "python",
   "nbconvert_exporter": "python",
   "pygments_lexer": "ipython3",
   "version": "3.10.9"
  },
  "orig_nbformat": 4
 },
 "nbformat": 4,
 "nbformat_minor": 2
}
