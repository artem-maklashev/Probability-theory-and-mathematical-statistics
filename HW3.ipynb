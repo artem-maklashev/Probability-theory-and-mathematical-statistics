{
 "cells": [
  {
   "cell_type": "markdown",
   "metadata": {},
   "source": [
    "### Задача 1\n",
    "Даны значения зарплат из выборки выпускников: 100, 80, 75, 77, 89, 33, 45, 25, 65, 17, 30, 24, 57, 55, 70, 75, 65, 84, 90, 150. \n",
    "Посчитать (желательно без использования статистических методов наподобие std, var, mean) среднее арифметическое, среднее квадратичное отклонение, смещенную и \n",
    "несмещенную оценки дисперсий для данной выборки."
   ]
  },
  {
   "cell_type": "code",
   "execution_count": 30,
   "metadata": {},
   "outputs": [
    {
     "name": "stdout",
     "output_type": "stream",
     "text": [
      "averege is: 65.3\n"
     ]
    }
   ],
   "source": [
    "array = [100, 80, 75, 77, 89, 33, 45, 25, 65, 17, 30, 24, 57, 55, 70, 75, 65, 84, 90, 150]\n",
    "\n",
    "def avg(array):    \n",
    "    return sum(array)/len(array)\n",
    "\n",
    "averege = avg(array)\n",
    "\n",
    "print(f'averege is: {averege}')"
   ]
  },
  {
   "cell_type": "code",
   "execution_count": 31,
   "metadata": {},
   "outputs": [
    {
     "name": "stdout",
     "output_type": "stream",
     "text": [
      "Среднее квадратичное отклонение составляет: 30.824\n"
     ]
    }
   ],
   "source": [
    "import numpy as np\n",
    "def sqd(array):\n",
    "    average = avg(array)\n",
    "    array2 = [np.power(x-average,2) for x in array]\n",
    "    average2 = avg(array2)\n",
    "    return np.sqrt(average2)\n",
    "print(f'Среднее квадратичное отклонение составляет: {sqd(array):.3f}')"
   ]
  },
  {
   "cell_type": "markdown",
   "metadata": {},
   "source": [
    "Выборочная смещенная дисперсия:\n",
    "\\begin{equation}\n",
    "\\text{Sample Variance} = \\frac{\\sum_{i=1}^n (x_i - \\bar{x})^2}{n-1}\n",
    "\\end{equation}\n",
    "\n",
    "Выборочная не смещенная дисперсия:\n",
    "\\begin{equation}\n",
    "\\text{Unbiased Sample Variance} = \\frac{\\sum_{i=1}^n (x_i - \\bar{x})^2}{n}\n",
    "\\end{equation}"
   ]
  },
  {
   "cell_type": "code",
   "execution_count": 32,
   "metadata": {},
   "outputs": [
    {
     "name": "stdout",
     "output_type": "stream",
     "text": [
      "Смещенная дисперсия SV= 1000.116\n",
      "Несмещенная дисперсия USV= 950.110\n"
     ]
    }
   ],
   "source": [
    "def variance(array, variant):\n",
    "    average = sum(array)/len(array)\n",
    "    array2 = [np.power(x-average,2) for x in array]\n",
    "    return sum(array2)/(len(array2)-variant)\n",
    "\n",
    "print(f'Смещенная дисперсия SV= {variance(array,1):.3f}')\n",
    "print(f'Несмещенная дисперсия USV= {variance(array,0):.3f}')"
   ]
  },
  {
   "cell_type": "markdown",
   "metadata": {},
   "source": [
    "### Задача 2\n",
    "В первом ящике находится 8 мячей, из которых 5 - белые. Во втором ящике - 12 мячей, из которых 5 белых. Из первого ящика вытаскивают случайным образом два мяча, из второго - 4. Какова вероятность того, что 3 мяча белые?\n",
    "\n",
    "Имеем 3 варианта: \n",
    "1. Вытащили 0 и 3 белых мяча\n",
    "1. Вытащили 1 и 2 белых мяча\n",
    "1. Вытащили 2 и 1 белых мяча\n"
   ]
  },
  {
   "cell_type": "code",
   "execution_count": 33,
   "metadata": {},
   "outputs": [
    {
     "name": "stdout",
     "output_type": "stream",
     "text": [
      "Вероятность того что 3 мяча белые составляет 0.369\n"
     ]
    }
   ],
   "source": [
    "import math\n",
    "p1 = math.comb(5,0)*math.comb(3,2)/math.comb(8,2)*(math.comb(5,3)*math.comb(7,1)/math.comb(12,4))\n",
    "p2 = math.comb(5,1)*math.comb(3,1)/math.comb(8,2)*(math.comb(5,2)*math.comb(7,2)/math.comb(12,4))\n",
    "p3 = math.comb(5,2)*math.comb(3,0)/math.comb(8,2)*(math.comb(5,1)*math.comb(7,3)/math.comb(12,4))\n",
    "\n",
    "p=p1+p2+p3\n",
    "print(f'Вероятность того что 3 мяча белые составляет {p:.3f}')\n"
   ]
  },
  {
   "cell_type": "markdown",
   "metadata": {},
   "source": [
    "### Задача 3\n",
    "На соревновании по биатлону один из трех спортсменов стреляет и попадает в мишень. Вероятность попадания для первого спортсмена равна 0.9, для второго — 0.8, для третьего — 0.6. Найти вероятность того, что выстрел произведен: a). первым спортсменом б). вторым спортсменом в). третьим спортсменом."
   ]
  }
 ],
 "metadata": {
  "kernelspec": {
   "display_name": "py",
   "language": "python",
   "name": "python3"
  },
  "language_info": {
   "codemirror_mode": {
    "name": "ipython",
    "version": 3
   },
   "file_extension": ".py",
   "mimetype": "text/x-python",
   "name": "python",
   "nbconvert_exporter": "python",
   "pygments_lexer": "ipython3",
   "version": "3.11.3"
  },
  "orig_nbformat": 4
 },
 "nbformat": 4,
 "nbformat_minor": 2
}
